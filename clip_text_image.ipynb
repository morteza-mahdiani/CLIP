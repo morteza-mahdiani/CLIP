{
 "nbformat": 4,
 "nbformat_minor": 0,
 "metadata": {
  "colab": {
   "provenance": [],
   "gpuType": "T4"
  },
  "kernelspec": {
   "name": "python3",
   "display_name": "Python 3"
  },
  "language_info": {
   "name": "python"
  },
  "accelerator": "GPU"
 },
 "cells": [
  {
   "cell_type": "code",
   "source": [
    "!pip install datasets"
   ],
   "metadata": {
    "colab": {
     "base_uri": "https://localhost:8080/"
    },
    "id": "XGefvUZe02wN",
    "outputId": "cfd0b393-c9f8-420d-c98f-023cc3d6220f"
   },
   "execution_count": 1,
   "outputs": [
    {
     "output_type": "stream",
     "name": "stdout",
     "text": [
      "Requirement already satisfied: datasets in /usr/local/lib/python3.10/dist-packages (2.15.0)\n",
      "Requirement already satisfied: numpy>=1.17 in /usr/local/lib/python3.10/dist-packages (from datasets) (1.23.5)\n",
      "Requirement already satisfied: pyarrow>=8.0.0 in /usr/local/lib/python3.10/dist-packages (from datasets) (9.0.0)\n",
      "Requirement already satisfied: pyarrow-hotfix in /usr/local/lib/python3.10/dist-packages (from datasets) (0.6)\n",
      "Requirement already satisfied: dill<0.3.8,>=0.3.0 in /usr/local/lib/python3.10/dist-packages (from datasets) (0.3.7)\n",
      "Requirement already satisfied: pandas in /usr/local/lib/python3.10/dist-packages (from datasets) (1.5.3)\n",
      "Requirement already satisfied: requests>=2.19.0 in /usr/local/lib/python3.10/dist-packages (from datasets) (2.31.0)\n",
      "Requirement already satisfied: tqdm>=4.62.1 in /usr/local/lib/python3.10/dist-packages (from datasets) (4.66.1)\n",
      "Requirement already satisfied: xxhash in /usr/local/lib/python3.10/dist-packages (from datasets) (3.4.1)\n",
      "Requirement already satisfied: multiprocess in /usr/local/lib/python3.10/dist-packages (from datasets) (0.70.15)\n",
      "Requirement already satisfied: fsspec[http]<=2023.10.0,>=2023.1.0 in /usr/local/lib/python3.10/dist-packages (from datasets) (2023.6.0)\n",
      "Requirement already satisfied: aiohttp in /usr/local/lib/python3.10/dist-packages (from datasets) (3.9.1)\n",
      "Requirement already satisfied: huggingface-hub>=0.18.0 in /usr/local/lib/python3.10/dist-packages (from datasets) (0.19.4)\n",
      "Requirement already satisfied: packaging in /usr/local/lib/python3.10/dist-packages (from datasets) (23.2)\n",
      "Requirement already satisfied: pyyaml>=5.1 in /usr/local/lib/python3.10/dist-packages (from datasets) (6.0.1)\n",
      "Requirement already satisfied: attrs>=17.3.0 in /usr/local/lib/python3.10/dist-packages (from aiohttp->datasets) (23.1.0)\n",
      "Requirement already satisfied: multidict<7.0,>=4.5 in /usr/local/lib/python3.10/dist-packages (from aiohttp->datasets) (6.0.4)\n",
      "Requirement already satisfied: yarl<2.0,>=1.0 in /usr/local/lib/python3.10/dist-packages (from aiohttp->datasets) (1.9.3)\n",
      "Requirement already satisfied: frozenlist>=1.1.1 in /usr/local/lib/python3.10/dist-packages (from aiohttp->datasets) (1.4.0)\n",
      "Requirement already satisfied: aiosignal>=1.1.2 in /usr/local/lib/python3.10/dist-packages (from aiohttp->datasets) (1.3.1)\n",
      "Requirement already satisfied: async-timeout<5.0,>=4.0 in /usr/local/lib/python3.10/dist-packages (from aiohttp->datasets) (4.0.3)\n",
      "Requirement already satisfied: filelock in /usr/local/lib/python3.10/dist-packages (from huggingface-hub>=0.18.0->datasets) (3.13.1)\n",
      "Requirement already satisfied: typing-extensions>=3.7.4.3 in /usr/local/lib/python3.10/dist-packages (from huggingface-hub>=0.18.0->datasets) (4.5.0)\n",
      "Requirement already satisfied: charset-normalizer<4,>=2 in /usr/local/lib/python3.10/dist-packages (from requests>=2.19.0->datasets) (3.3.2)\n",
      "Requirement already satisfied: idna<4,>=2.5 in /usr/local/lib/python3.10/dist-packages (from requests>=2.19.0->datasets) (3.6)\n",
      "Requirement already satisfied: urllib3<3,>=1.21.1 in /usr/local/lib/python3.10/dist-packages (from requests>=2.19.0->datasets) (2.0.7)\n",
      "Requirement already satisfied: certifi>=2017.4.17 in /usr/local/lib/python3.10/dist-packages (from requests>=2.19.0->datasets) (2023.11.17)\n",
      "Requirement already satisfied: python-dateutil>=2.8.1 in /usr/local/lib/python3.10/dist-packages (from pandas->datasets) (2.8.2)\n",
      "Requirement already satisfied: pytz>=2020.1 in /usr/local/lib/python3.10/dist-packages (from pandas->datasets) (2023.3.post1)\n",
      "Requirement already satisfied: six>=1.5 in /usr/local/lib/python3.10/dist-packages (from python-dateutil>=2.8.1->pandas->datasets) (1.16.0)\n"
     ]
    }
   ]
  },
  {
   "cell_type": "code",
   "source": [
    "from datasets import load_dataset_builder, load_dataset\n",
    "from transformers import AutoProcessor, CLIPVisionModel, AutoTokenizer, CLIPTextModel\n",
    "from torch.utils.data import Dataset, DataLoader\n",
    "from torchvision import transforms\n",
    "from PIL import Image\n",
    "import sys\n",
    "from itertools import islice\n",
    "\n",
    "\n",
    "# Loading the ROCO dataset\n",
    "ds_builder = load_dataset_builder(\"gaodrew/roco-65k-256px\")\n",
    "dataset = load_dataset(\"gaodrew/roco-65k-256px\")\n",
    "train_dataset = dataset['train']\n",
    "\n",
    "\n",
    "# the first 100 elements\n",
    "size_of_subset = 100\n",
    "candidate_training_set = train_dataset[:size_of_subset]\n",
    "\n",
    "\n",
    "class CustomDataset(Dataset):\n",
    "    def __init__(self, dataset, transform=None):\n",
    "        self.dataset = dataset\n",
    "        self.transform = transform\n",
    "        # encoders\n",
    "        self.processor_vision = AutoProcessor.from_pretrained(\"openai/clip-vit-base-patch32\")\n",
    "        self.tokenizer = AutoTokenizer.from_pretrained(\"openai/clip-vit-base-patch32\")\n",
    "\n",
    "    def __len__(self):\n",
    "        return size_of_subset\n",
    "\n",
    "    def __getitem__(self, idx):\n",
    "        image = self.dataset['image'][idx]\n",
    "        text = self.dataset['text'][idx]\n",
    "\n",
    "        # Convert image from PIL to Tensor if a transform is specified\n",
    "        if self.transform:\n",
    "            image = self.transform(image)\n",
    "\n",
    "        return text[:50], image\n",
    "\n",
    "\n",
    "# Custom transform to replicate grayscale images to 3 channels\n",
    "class ReplicateGrayscale(object):\n",
    "    def __call__(self, image):\n",
    "        if image.mode == 'L':\n",
    "            # Replicate the single channel to have 3 channels\n",
    "            image = image.convert('RGB')\n",
    "        return image\n",
    "\n",
    "# transformation pipeline\n",
    "common_transform = transforms.Compose([\n",
    "        transforms.Resize(target_size),\n",
    "        transforms.ToTensor(),\n",
    "        transforms.Normalize(mean=[0.485, 0.456, 0.406], std=[0.229, 0.224, 0.225]),\n",
    "    ])\n",
    "\n",
    "# custom transform only to grayscale images\n",
    "transform = transforms.Compose([\n",
    "    ReplicateGrayscale(),\n",
    "    common_transform\n",
    "])\n",
    "\n",
    "# custom dataset\n",
    "custom_dataset = CustomDataset(candidate_training_set, transform)\n",
    "\n",
    "# data loader\n",
    "batch_size = 5\n",
    "data_loader = DataLoader(custom_dataset, batch_size=batch_size)"
   ],
   "metadata": {
    "id": "24jSGEiJ1CLK"
   },
   "execution_count": 2,
   "outputs": []
  },
  {
   "cell_type": "code",
   "source": [
    "import torch\n",
    "import torch.nn as nn\n",
    "import torch.optim as optim\n",
    "from torch.utils.data import DataLoader, TensorDataset\n",
    "from torchvision import transforms\n",
    "import torch\n",
    "import torch.nn as nn\n",
    "from torch.utils.data import DataLoader, Dataset\n",
    "from transformers import CLIPProcessor, CLIPModel, AdamW\n",
    "from sklearn.model_selection import train_test_split\n",
    "from tqdm import tqdm\n",
    "from transformers import AutoProcessor, CLIPVisionModel, AutoTokenizer, CLIPTextModel\n",
    "import torch\n",
    "import torch.nn.functional as F\n",
    "\n",
    "\n",
    "# model architecture with a shared encoder for text and image\n",
    "class MyContrastiveModel(nn.Module):\n",
    "    def __init__(self):\n",
    "        super(MyContrastiveModel, self).__init__()\n",
    "        self.text_encoder = AutoTokenizer.from_pretrained(\"openai/clip-vit-base-patch32\")\n",
    "        self.text_model = CLIPTextModel.from_pretrained(\"openai/clip-vit-base-patch32\")\n",
    "        self.image_encoder = AutoProcessor.from_pretrained(\"openai/clip-vit-base-patch32\")\n",
    "        self.image_model = CLIPVisionModel.from_pretrained(\"openai/clip-vit-base-patch32\")\n",
    "        self.text_project = nn.Linear(512, 768)\n",
    "        self.image_project = nn.Linear(768, 768)\n",
    "\n",
    "    def forward(self, text_input, image_input):\n",
    "        text_embedding = self.text_encoder(text_input, padding=True, return_tensors=\"pt\")\n",
    "        text_embedding = self.text_model(**text_embedding)\n",
    "        text_embedding = self.text_project(text_embedding.last_hidden_state[:,0,:])\n",
    "        image_embedding = self.image_encoder(images=image_input, return_tensors=\"pt\")\n",
    "        image_embedding = self.image_model(**image_embedding)\n",
    "        image_embedding = self.image_project(image_embedding.last_hidden_state[:,0,:])\n",
    "\n",
    "        return text_embedding, image_embedding\n",
    "\n",
    "# Contrastive loss function\n",
    "# class ContrastiveLoss(nn.Module):\n",
    "#     def __init__(self, margin=1.0):\n",
    "#         super(ContrastiveLoss, self).__init__()\n",
    "#         self.margin = margin\n",
    "\n",
    "#     def forward(self, text_embedding, image_embedding, labels):\n",
    "#         # labels: 1 for positive pairs, -1 for negative pairs\n",
    "#         distance = nn.functional.cosine_similarity(text_embedding, image_embedding)\n",
    "#         loss = 0.5 * (1 - labels) * distance.pow(2) + 0.5 * labels * torch.clamp(self.margin - distance, min=0).pow(2)\n",
    "#         return loss.mean()\n",
    "\n",
    "\n",
    "def contrastive_loss(text_logits, image_logits, margin=1.0):\n",
    "    positive_pairs = [(image_logits[i], text_logits[i]) for i in range(len(image_logits))]\n",
    "\n",
    "    positive_losses = [F.cosine_embedding_loss(image, text, target=torch.tensor(1.0), margin=margin) for image, text in positive_pairs]\n",
    "\n",
    "    negative_pairs = []\n",
    "    for i in range(len(image_logits)):\n",
    "        for j in range(len(text_logits)):\n",
    "            if i != j:\n",
    "                negative_pairs.append((image_logits[i], text_logits[j]))\n",
    "\n",
    "    negative_losses = [F.cosine_embedding_loss(image, text, target=torch.tensor(-1.0), margin=margin) for image, text in negative_pairs]\n",
    "\n",
    "    loss = torch.mean(torch.stack(positive_losses + negative_losses))\n",
    "    return loss\n",
    "\n",
    "# Function for training with simultaneous update\n",
    "def train_simultaneously(model, train_loader, criterion, optimizer, num_epochs=3):\n",
    "    # loss values for plotting\n",
    "    losses = []\n",
    "    average_epoch_loss = 0.0\n",
    "\n",
    "    model.train()\n",
    "    for epoch in range(num_epochs):\n",
    "        epoch_loss = 0.0  # loss for the current epoch\n",
    "\n",
    "        for text_input, image_input in tqdm(train_loader, desc=f\"Epoch {epoch + 1}/{num_epochs}, Average Loss: {average_epoch_loss:.4f}\", unit=\"batch\"):\n",
    "            text_embedding, image_embedding = model(text_input, image_input)\n",
    "            loss = criterion(text_embedding, image_embedding)\n",
    "            optimizer.zero_grad()\n",
    "            loss.backward()\n",
    "            optimizer.step()\n",
    "\n",
    "            epoch_loss += loss.item()\n",
    "\n",
    "            # Calculate and store the average loss for the epoch\n",
    "            average_epoch_loss = epoch_loss / len(data_loader)\n",
    "            losses.append(average_epoch_loss)\n",
    "\n",
    "    return model, losses\n",
    "\n",
    "# Function for training with frozen image encoder\n",
    "def train_with_frozen_encoder(model, train_loader, criterion, optimizer, num_epochs=3):\n",
    "    # loss values for plotting\n",
    "    losses = []\n",
    "    average_epoch_loss = 0.0\n",
    "\n",
    "    model.train()\n",
    "    for epoch in range(num_epochs):\n",
    "        epoch_loss = 0.0  # loss for the current epoch\n",
    "\n",
    "        for text_input, image_input in tqdm(train_loader, desc=f\"Epoch {epoch + 1}/{num_epochs}, Average Loss: {average_epoch_loss:.4f}\", unit=\"batch\"):     # Freeze the image encoder during training\n",
    "            with torch.no_grad():\n",
    "                image_embedding = model.image_encoder(images=image_input, return_tensors=\"pt\")\n",
    "                image_embedding = model.image_model(**image_embedding)\n",
    "                image_embedding = model.image_project(image_embedding.last_hidden_state[:,0,:])\n",
    "            text_embedding = model.text_encoder(text_input, padding=True, return_tensors=\"pt\")\n",
    "            text_embedding = model.text_model(**text_embedding)\n",
    "            text_embedding = model.text_project(text_embedding.last_hidden_state[:,0,:])\n",
    "\n",
    "            loss = criterion(text_embedding, image_embedding)\n",
    "            optimizer.zero_grad()\n",
    "            loss.backward()\n",
    "            optimizer.step()\n",
    "\n",
    "            epoch_loss += loss.item()\n",
    "\n",
    "            # Calculate and store the average loss for the epoch\n",
    "            average_epoch_loss = epoch_loss / len(data_loader)\n",
    "            losses.append(average_epoch_loss)\n",
    "    return model, losses\n",
    "\n",
    "# Create an instance of the model and contrastive loss\n",
    "model = MyContrastiveModel()\n",
    "\n",
    "# Define optimizer\n",
    "optimizer = optim.Adam(model.parameters(), lr=0.001)"
   ],
   "metadata": {
    "id": "plHeGexAr_fu"
   },
   "execution_count": 3,
   "outputs": []
  },
  {
   "cell_type": "code",
   "source": [
    "# Train with frozen image encoder\n",
    "trained_model, losses = train_with_frozen_encoder(model, data_loader, contrastive_loss, optimizer, num_epochs=3)"
   ],
   "metadata": {
    "colab": {
     "base_uri": "https://localhost:8080/"
    },
    "id": "dJzxoQgPLsa8",
    "outputId": "4698369b-258d-412a-b9fc-b046dd42bd17"
   },
   "execution_count": 21,
   "outputs": [
    {
     "output_type": "stream",
     "name": "stderr",
     "text": [
      "Epoch 1/3, Average Loss: 0.0000: 100%|██████████| 20/20 [00:36<00:00,  1.84s/batch]\n",
      "Epoch 2/3, Average Loss: 0.0234: 100%|██████████| 20/20 [00:35<00:00,  1.79s/batch]\n",
      "Epoch 3/3, Average Loss: 0.0026: 100%|██████████| 20/20 [00:34<00:00,  1.75s/batch]\n"
     ]
    }
   ]
  },
  {
   "cell_type": "code",
   "source": [
    "import matplotlib.pyplot as plt\n",
    "\n",
    "# Plot the training loss over epochs\n",
    "plt.plot(losses, label='Training Loss')\n",
    "plt.xlabel('Epochs')\n",
    "plt.ylabel('Loss')\n",
    "plt.legend()\n",
    "plt.savefig('training_loss_plot_freezed.png')\n",
    "\n",
    "# Save the trained model with frozen layers\n",
    "torch.save(model.state_dict(), 'image_text_contrastive_training_freezed_image_encoder.pth')"
   ],
   "metadata": {
    "colab": {
     "base_uri": "https://localhost:8080/",
     "height": 449
    },
    "id": "DKP-35-vmBTR",
    "outputId": "0bcab9d7-12e3-40fd-ba1d-2081922d4f54"
   },
   "execution_count": 22,
   "outputs": [
    {
     "output_type": "display_data",
     "data": {
      "text/plain": [
       "<Figure size 640x480 with 1 Axes>"
      ],
      "image/png": "[encoded data removed]"
     },
     "metadata": {}
    }
   ]
  },
  {
   "cell_type": "code",
   "source": [
    "# Train the model\n",
    "trained_model, losses = trained_model_with, losses = train_simultaneously(model, data_loader, contrastive_loss, optimizer, num_epochs=3)"
   ],
   "metadata": {
    "colab": {
     "base_uri": "https://localhost:8080/"
    },
    "id": "fZurBJ7hqZtH",
    "outputId": "0d62f57d-efda-48d7-b5aa-d0b3af1ffc6a"
   },
   "execution_count": 4,
   "outputs": [
    {
     "output_type": "stream",
     "name": "stderr",
     "text": [
      "Epoch 1/3, Average Loss: 0.0000:   0%|          | 0/20 [00:00<?, ?batch/s]It looks like you are trying to rescale already rescaled images. If the input images have pixel values between 0 and 1, set `do_rescale=False` to avoid rescaling them again.\n",
      "Epoch 1/3, Average Loss: 0.0000: 100%|██████████| 20/20 [01:16<00:00,  3.84s/batch]\n",
      "Epoch 2/3, Average Loss: 0.0193: 100%|██████████| 20/20 [01:21<00:00,  4.05s/batch]\n",
      "Epoch 3/3, Average Loss: 0.0001: 100%|██████████| 20/20 [01:18<00:00,  3.95s/batch]\n"
     ]
    }
   ]
  },
  {
   "cell_type": "code",
   "source": [
    "import matplotlib.pyplot as plt\n",
    "\n",
    "# Plot the training loss over epochs\n",
    "plt.plot(losses, label='Training Loss')\n",
    "plt.xlabel('Epochs')\n",
    "plt.ylabel('Loss')\n",
    "plt.legend()\n",
    "plt.savefig('training_loss_plot.png')\n",
    "\n",
    "# Save the trained model without freezing\n",
    "torch.save(model.state_dict(), 'image_text_contrastive_training.pth')"
   ],
   "metadata": {
    "colab": {
     "base_uri": "https://localhost:8080/",
     "height": 451
    },
    "id": "k7mBnyYjqgpi",
    "outputId": "46f5c047-23d6-4f00-f924-0fc30887a4bc"
   },
   "execution_count": 5,
   "outputs": [
    {
     "output_type": "display_data",
     "data": {
      "text/plain": [
       "<Figure size 640x480 with 1 Axes>"
      ],
      "image/png": "[encoded data removed]"
     },
     "metadata": {}
    }
   ]
  },
  {
   "cell_type": "code",
   "source": [],
   "metadata": {
    "id": "Mw-M_YxWsM1Z"
   },
   "execution_count": null,
   "outputs": []
  }
 ]
}
