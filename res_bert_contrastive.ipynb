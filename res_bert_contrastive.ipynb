{
 "nbformat": 4,
 "nbformat_minor": 0,
 "metadata": {
  "colab": {
   "provenance": [],
   "gpuType": "T4"
  },
  "kernelspec": {
   "name": "python3",
   "display_name": "Python 3"
  },
  "language_info": {
   "name": "python"
  },
  "accelerator": "GPU"
 },
 "cells": [
  {
   "cell_type": "code",
   "source": [
    "#  Install required packages"
   ],
   "metadata": {
    "id": "NdG5Aq5z0Tup"
   },
   "execution_count": 1,
   "outputs": []
  },
  {
   "cell_type": "code",
   "execution_count": 2,
   "metadata": {
    "colab": {
     "base_uri": "https://localhost:8080/"
    },
    "id": "XXvP2emPyo3c",
    "outputId": "2380e1b2-aa71-4be1-b3c6-0b62a6850c71"
   },
   "outputs": [
    {
     "output_type": "stream",
     "name": "stdout",
     "text": [
      "Requirement already satisfied: datasets in /usr/local/lib/python3.10/dist-packages (2.15.0)\n",
      "Requirement already satisfied: numpy>=1.17 in /usr/local/lib/python3.10/dist-packages (from datasets) (1.23.5)\n",
      "Requirement already satisfied: pyarrow>=8.0.0 in /usr/local/lib/python3.10/dist-packages (from datasets) (9.0.0)\n",
      "Requirement already satisfied: pyarrow-hotfix in /usr/local/lib/python3.10/dist-packages (from datasets) (0.6)\n",
      "Requirement already satisfied: dill<0.3.8,>=0.3.0 in /usr/local/lib/python3.10/dist-packages (from datasets) (0.3.7)\n",
      "Requirement already satisfied: pandas in /usr/local/lib/python3.10/dist-packages (from datasets) (1.5.3)\n",
      "Requirement already satisfied: requests>=2.19.0 in /usr/local/lib/python3.10/dist-packages (from datasets) (2.31.0)\n",
      "Requirement already satisfied: tqdm>=4.62.1 in /usr/local/lib/python3.10/dist-packages (from datasets) (4.66.1)\n",
      "Requirement already satisfied: xxhash in /usr/local/lib/python3.10/dist-packages (from datasets) (3.4.1)\n",
      "Requirement already satisfied: multiprocess in /usr/local/lib/python3.10/dist-packages (from datasets) (0.70.15)\n",
      "Requirement already satisfied: fsspec[http]<=2023.10.0,>=2023.1.0 in /usr/local/lib/python3.10/dist-packages (from datasets) (2023.6.0)\n",
      "Requirement already satisfied: aiohttp in /usr/local/lib/python3.10/dist-packages (from datasets) (3.9.1)\n",
      "Requirement already satisfied: huggingface-hub>=0.18.0 in /usr/local/lib/python3.10/dist-packages (from datasets) (0.19.4)\n",
      "Requirement already satisfied: packaging in /usr/local/lib/python3.10/dist-packages (from datasets) (23.2)\n",
      "Requirement already satisfied: pyyaml>=5.1 in /usr/local/lib/python3.10/dist-packages (from datasets) (6.0.1)\n",
      "Requirement already satisfied: attrs>=17.3.0 in /usr/local/lib/python3.10/dist-packages (from aiohttp->datasets) (23.1.0)\n",
      "Requirement already satisfied: multidict<7.0,>=4.5 in /usr/local/lib/python3.10/dist-packages (from aiohttp->datasets) (6.0.4)\n",
      "Requirement already satisfied: yarl<2.0,>=1.0 in /usr/local/lib/python3.10/dist-packages (from aiohttp->datasets) (1.9.3)\n",
      "Requirement already satisfied: frozenlist>=1.1.1 in /usr/local/lib/python3.10/dist-packages (from aiohttp->datasets) (1.4.0)\n",
      "Requirement already satisfied: aiosignal>=1.1.2 in /usr/local/lib/python3.10/dist-packages (from aiohttp->datasets) (1.3.1)\n",
      "Requirement already satisfied: async-timeout<5.0,>=4.0 in /usr/local/lib/python3.10/dist-packages (from aiohttp->datasets) (4.0.3)\n",
      "Requirement already satisfied: filelock in /usr/local/lib/python3.10/dist-packages (from huggingface-hub>=0.18.0->datasets) (3.13.1)\n",
      "Requirement already satisfied: typing-extensions>=3.7.4.3 in /usr/local/lib/python3.10/dist-packages (from huggingface-hub>=0.18.0->datasets) (4.5.0)\n",
      "Requirement already satisfied: charset-normalizer<4,>=2 in /usr/local/lib/python3.10/dist-packages (from requests>=2.19.0->datasets) (3.3.2)\n",
      "Requirement already satisfied: idna<4,>=2.5 in /usr/local/lib/python3.10/dist-packages (from requests>=2.19.0->datasets) (3.6)\n",
      "Requirement already satisfied: urllib3<3,>=1.21.1 in /usr/local/lib/python3.10/dist-packages (from requests>=2.19.0->datasets) (2.0.7)\n",
      "Requirement already satisfied: certifi>=2017.4.17 in /usr/local/lib/python3.10/dist-packages (from requests>=2.19.0->datasets) (2023.11.17)\n",
      "Requirement already satisfied: python-dateutil>=2.8.1 in /usr/local/lib/python3.10/dist-packages (from pandas->datasets) (2.8.2)\n",
      "Requirement already satisfied: pytz>=2020.1 in /usr/local/lib/python3.10/dist-packages (from pandas->datasets) (2023.3.post1)\n",
      "Requirement already satisfied: six>=1.5 in /usr/local/lib/python3.10/dist-packages (from python-dateutil>=2.8.1->pandas->datasets) (1.16.0)\n"
     ]
    }
   ],
   "source": [
    "!pip install datasets"
   ]
  },
  {
   "cell_type": "code",
   "source": [
    "# Prepare dataset for fine tunning"
   ],
   "metadata": {
    "id": "5XQsjC2QyqZq"
   },
   "execution_count": 3,
   "outputs": []
  },
  {
   "cell_type": "code",
   "source": [
    "from datasets import load_dataset_builder, load_dataset\n",
    "\n",
    "\n",
    "# Load the ROCO dataset\n",
    "ds_builder = load_dataset_builder(\"gaodrew/roco-65k-256px\")\n",
    "dataset = load_dataset(\"gaodrew/roco-65k-256px\")\n",
    "train_dataset = dataset['train']"
   ],
   "metadata": {
    "id": "MIdLghER1Jnh"
   },
   "execution_count": 4,
   "outputs": []
  },
  {
   "cell_type": "code",
   "source": [
    "from itertools import islice\n",
    "\n",
    "size_of_subset = 100\n",
    "# Select the first 100 elements\n",
    "candidate_training_set = train_dataset[:size_of_subset]\n",
    "\n",
    "print(candidate_training_set)"
   ],
   "metadata": {
    "colab": {
     "base_uri": "https://localhost:8080/"
    },
    "id": "V5WBV5xG38GC",
    "outputId": "cf7a1e9d-739e-4024-fce1-29405d0dc3c3"
   },
   "execution_count": 5,
   "outputs": [
    {
     "output_type": "stream",
     "name": "stdout",
     "text": [
      "{'image': [<PIL.JpegImagePlugin.JpegImageFile image mode=RGB size=256x256 at 0x78DF90AFA980>, <PIL.JpegImagePlugin.JpegImageFile image mode=L size=256x256 at 0x78DF90548D00>, <PIL.JpegImagePlugin.JpegImageFile image mode=L size=256x256 at 0x78DF90548D60>, <PIL.JpegImagePlugin.JpegImageFile image mode=L size=256x256 at 0x78DF90548DF0>, <PIL.JpegImagePlugin.JpegImageFile image mode=L size=256x256 at 0x78DF90548E50>, <PIL.JpegImagePlugin.JpegImageFile image mode=L size=256x256 at 0x78DF90548EB0>, <PIL.JpegImagePlugin.JpegImageFile image mode=L size=256x256 at 0x78DF90548F10>, <PIL.JpegImagePlugin.JpegImageFile image mode=L size=256x256 at 0x78DF90548F70>, <PIL.JpegImagePlugin.JpegImageFile image mode=RGB size=256x256 at 0x78DF90548FD0>, <PIL.JpegImagePlugin.JpegImageFile image mode=RGB size=256x256 at 0x78DF90549060>, <PIL.JpegImagePlugin.JpegImageFile image mode=RGB size=256x256 at 0x78DF905490C0>, <PIL.JpegImagePlugin.JpegImageFile image mode=RGB size=256x256 at 0x78DF90549120>, <PIL.JpegImagePlugin.JpegImageFile image mode=RGB size=256x256 at 0x78DF90549180>, <PIL.JpegImagePlugin.JpegImageFile image mode=RGB size=256x256 at 0x78DF905491E0>, <PIL.JpegImagePlugin.JpegImageFile image mode=RGB size=256x256 at 0x78DF90549240>, <PIL.JpegImagePlugin.JpegImageFile image mode=L size=256x256 at 0x78DF905492A0>, <PIL.JpegImagePlugin.JpegImageFile image mode=RGB size=256x256 at 0x78DF90549300>, <PIL.JpegImagePlugin.JpegImageFile image mode=L size=256x256 at 0x78DF90549390>, <PIL.JpegImagePlugin.JpegImageFile image mode=RGB size=256x256 at 0x78DF90549420>, <PIL.JpegImagePlugin.JpegImageFile image mode=RGB size=256x256 at 0x78DF90549480>, <PIL.JpegImagePlugin.JpegImageFile image mode=RGB size=256x256 at 0x78DF905494E0>, <PIL.JpegImagePlugin.JpegImageFile image mode=RGB size=256x256 at 0x78DF90549540>, <PIL.JpegImagePlugin.JpegImageFile image mode=L size=256x256 at 0x78DF905495A0>, <PIL.JpegImagePlugin.JpegImageFile image mode=L size=256x256 at 0x78DF90549600>, <PIL.JpegImagePlugin.JpegImageFile image mode=L size=256x256 at 0x78DF90549660>, <PIL.JpegImagePlugin.JpegImageFile image mode=L size=256x256 at 0x78DF905496C0>, <PIL.JpegImagePlugin.JpegImageFile image mode=RGB size=256x256 at 0x78DF90549720>, <PIL.JpegImagePlugin.JpegImageFile image mode=RGB size=256x256 at 0x78DF90549780>, <PIL.JpegImagePlugin.JpegImageFile image mode=RGB size=256x256 at 0x78DF905497E0>, <PIL.JpegImagePlugin.JpegImageFile image mode=RGB size=256x256 at 0x78DF90549840>, <PIL.JpegImagePlugin.JpegImageFile image mode=RGB size=256x256 at 0x78DF905498A0>, <PIL.JpegImagePlugin.JpegImageFile image mode=RGB size=256x256 at 0x78DF90549900>, <PIL.JpegImagePlugin.JpegImageFile image mode=L size=256x256 at 0x78DF90549960>, <PIL.JpegImagePlugin.JpegImageFile image mode=RGB size=256x256 at 0x78DF905499C0>, <PIL.JpegImagePlugin.JpegImageFile image mode=RGB size=256x256 at 0x78DF90549A20>, <PIL.JpegImagePlugin.JpegImageFile image mode=RGB size=256x256 at 0x78DF90549A80>, <PIL.JpegImagePlugin.JpegImageFile image mode=RGB size=256x256 at 0x78DF90549AE0>, <PIL.JpegImagePlugin.JpegImageFile image mode=RGB size=256x256 at 0x78DF90549B40>, <PIL.JpegImagePlugin.JpegImageFile image mode=L size=256x256 at 0x78DF90549BA0>, <PIL.JpegImagePlugin.JpegImageFile image mode=RGB size=256x256 at 0x78DF90549C00>, <PIL.JpegImagePlugin.JpegImageFile image mode=RGB size=256x256 at 0x78DF90549C90>, <PIL.JpegImagePlugin.JpegImageFile image mode=RGB size=256x256 at 0x78DF90549CF0>, <PIL.JpegImagePlugin.JpegImageFile image mode=RGB size=256x256 at 0x78DF90549D50>, <PIL.JpegImagePlugin.JpegImageFile image mode=RGB size=256x256 at 0x78DF90549DB0>, <PIL.JpegImagePlugin.JpegImageFile image mode=RGB size=256x256 at 0x78DF90549E10>, <PIL.JpegImagePlugin.JpegImageFile image mode=RGB size=256x256 at 0x78DF90549E70>, <PIL.JpegImagePlugin.JpegImageFile image mode=L size=256x256 at 0x78DF90549ED0>, <PIL.JpegImagePlugin.JpegImageFile image mode=L size=256x256 at 0x78DF90549F30>, <PIL.JpegImagePlugin.JpegImageFile image mode=L size=256x256 at 0x78DF90549F90>, <PIL.JpegImagePlugin.JpegImageFile image mode=L size=256x256 at 0x78DF90549FF0>, <PIL.JpegImagePlugin.JpegImageFile image mode=L size=256x256 at 0x78DF9054A050>, <PIL.JpegImagePlugin.JpegImageFile image mode=L size=256x256 at 0x78DF9054A0B0>, <PIL.JpegImagePlugin.JpegImageFile image mode=L size=256x256 at 0x78DF9054A110>, <PIL.JpegImagePlugin.JpegImageFile image mode=RGB size=256x256 at 0x78DF9054A170>, <PIL.JpegImagePlugin.JpegImageFile image mode=RGB size=256x256 at 0x78DF9054A1D0>, <PIL.JpegImagePlugin.JpegImageFile image mode=L size=256x256 at 0x78DF9054A230>, <PIL.JpegImagePlugin.JpegImageFile image mode=RGB size=256x256 at 0x78DF9054A290>, <PIL.JpegImagePlugin.JpegImageFile image mode=RGB size=256x256 at 0x78DF9054A2F0>, <PIL.JpegImagePlugin.JpegImageFile image mode=RGB size=256x256 at 0x78DF9054A350>, <PIL.JpegImagePlugin.JpegImageFile image mode=RGB size=256x256 at 0x78DF9054A3B0>, <PIL.JpegImagePlugin.JpegImageFile image mode=L size=256x256 at 0x78DF9054A410>, <PIL.JpegImagePlugin.JpegImageFile image mode=L size=256x256 at 0x78DF9054A470>, <PIL.JpegImagePlugin.JpegImageFile image mode=L size=256x256 at 0x78DF9054A4D0>, <PIL.JpegImagePlugin.JpegImageFile image mode=L size=256x256 at 0x78DF9054A530>, <PIL.JpegImagePlugin.JpegImageFile image mode=L size=256x256 at 0x78DF9054A590>, <PIL.JpegImagePlugin.JpegImageFile image mode=RGB size=256x256 at 0x78DF9054A5F0>, <PIL.JpegImagePlugin.JpegImageFile image mode=L size=256x256 at 0x78DF9054A650>, <PIL.JpegImagePlugin.JpegImageFile image mode=L size=256x256 at 0x78DF9054A6B0>, <PIL.JpegImagePlugin.JpegImageFile image mode=L size=256x256 at 0x78DF9054A710>, <PIL.JpegImagePlugin.JpegImageFile image mode=L size=256x256 at 0x78DF9054A770>, <PIL.JpegImagePlugin.JpegImageFile image mode=RGB size=256x256 at 0x78DF9054A7D0>, <PIL.JpegImagePlugin.JpegImageFile image mode=L size=256x256 at 0x78DF9054A830>, <PIL.JpegImagePlugin.JpegImageFile image mode=RGB size=256x256 at 0x78DF9054A890>, <PIL.JpegImagePlugin.JpegImageFile image mode=RGB size=256x256 at 0x78DF9054A8F0>, <PIL.JpegImagePlugin.JpegImageFile image mode=L size=256x256 at 0x78DF9054A950>, <PIL.JpegImagePlugin.JpegImageFile image mode=RGB size=256x256 at 0x78DF9054A9B0>, <PIL.JpegImagePlugin.JpegImageFile image mode=L size=256x256 at 0x78DF9054AA10>, <PIL.JpegImagePlugin.JpegImageFile image mode=L size=256x256 at 0x78DF9054AA70>, <PIL.JpegImagePlugin.JpegImageFile image mode=L size=256x256 at 0x78DF9054AAD0>, <PIL.JpegImagePlugin.JpegImageFile image mode=L size=256x256 at 0x78DF9054AB30>, <PIL.JpegImagePlugin.JpegImageFile image mode=RGB size=256x256 at 0x78DF9054AB90>, <PIL.JpegImagePlugin.JpegImageFile image mode=RGB size=256x256 at 0x78DF9054ABF0>, <PIL.JpegImagePlugin.JpegImageFile image mode=RGB size=256x256 at 0x78DF9054AC50>, <PIL.JpegImagePlugin.JpegImageFile image mode=RGB size=256x256 at 0x78DF9054ACB0>, <PIL.JpegImagePlugin.JpegImageFile image mode=RGB size=256x256 at 0x78DF9054AD10>, <PIL.JpegImagePlugin.JpegImageFile image mode=RGB size=256x256 at 0x78DF9054AD70>, <PIL.JpegImagePlugin.JpegImageFile image mode=RGB size=256x256 at 0x78DF9054ADD0>, <PIL.JpegImagePlugin.JpegImageFile image mode=RGB size=256x256 at 0x78DF9054AE30>, <PIL.JpegImagePlugin.JpegImageFile image mode=RGB size=256x256 at 0x78DF9054AE90>, <PIL.JpegImagePlugin.JpegImageFile image mode=L size=256x256 at 0x78DF9054AEF0>, <PIL.JpegImagePlugin.JpegImageFile image mode=L size=256x256 at 0x78DF9054AF50>, <PIL.JpegImagePlugin.JpegImageFile image mode=L size=256x256 at 0x78DF9054AFB0>, <PIL.JpegImagePlugin.JpegImageFile image mode=L size=256x256 at 0x78DF9054B040>, <PIL.JpegImagePlugin.JpegImageFile image mode=RGB size=256x256 at 0x78DF9054B0A0>, <PIL.JpegImagePlugin.JpegImageFile image mode=RGB size=256x256 at 0x78DF9054B100>, <PIL.JpegImagePlugin.JpegImageFile image mode=RGB size=256x256 at 0x78DF9054B160>, <PIL.JpegImagePlugin.JpegImageFile image mode=RGB size=256x256 at 0x78DF9054B1C0>, <PIL.JpegImagePlugin.JpegImageFile image mode=RGB size=256x256 at 0x78DF9054B220>, <PIL.JpegImagePlugin.JpegImageFile image mode=L size=256x256 at 0x78DF9054B280>, <PIL.JpegImagePlugin.JpegImageFile image mode=L size=256x256 at 0x78DF9054B2E0>], 'text': ['corresponding endosonographic image 7 .5 mhz of the same fig . 3 patient . hypoechoic mass invading the duodenum . enlarged hypoechoic regional lymph nodes are also present . carcinoma of the ampulla of vatert3n1 . dl duodenal lumen t tumour mass ln metastatic lymph nodes .', 'resin mass adhered to corbicula of an africanized apis mellifera . rm resin mass co corbicula .', 'the girl cranial computed tomography done 7 hours after admission showing cerebral oedema .', 'the girl chest x-ray film done after admission to hospital showing increasing bilateral infiltrations of the lung done after admission .', 'initial radiograph showing a right-upper lobe opacity and opacities in the right-lower lingula and left-upper lobes .', 'postinstubation radiograph showing progression of the right-upper lobe opacity .', 'radiograph showing progressive involvement of both lungs .', 'radiograph showing generalized improvement .', 'lateral view of cervical spine shows congenital fusion of bodies of c2 with c3 and vertebral bodies of c4 with c5 .', 'coned view of kidney shows anteriorly rotated large extra-renal pelvis which is occupying the centre and a further renal pelvis with normal configuration facing laterally .', 'ultrasound examination of kidney shows two distinct renal sinus echo patterns thus confirming the presence of a crossed fused renal ectopia .', 'total body scan of a 59 kg woman bmi = 22 .6 kg/m2 showing proper positioning on the scan table and no overlapping regions .', 'orbital anatomy . high-resolution axial t1-weighted native mri of a volunteer without structural abnormalities at 3 .0 tesla . structures removed during enucleation globe part of the optic nerve insertions of the external eye muscles are highlighted by the red ellipse .', \"chest x-ray of case 3 who died of fallot's tetralogy . the picture exhibits vertebral and rib malformations and fusions along with thoracic scoliosis .\", 'coronary artery calcification . this image demonstrates coronary artery calcification . this 68 year-old caucasian male with cad congestive heart failure and angina was found at autopsy to have a complete occlusion of the lad with thrombus . known t2dm of 8 years duration and htn of 10 years duration with normal ca++ and pi bun 32 mg/dl creatinine 1 .8 mg/dl proteinuria trace to +1 total cholesterol 198 mg/dl and triglycerides 398 mg/dl', 'the chest x-ray showing a large mass projecting over the right lung field .', 'a pre-surgical ct scan of the chest showing the tumour .', 'transabdominal ultrasonography is presenting the co-triplet fetus with multicystic lung lesions suggesting congenital cystic adenomatoid malformation arrow at 24 weeks .', 'computerized tomography of the infant at 3 months two cystic masses in the middle lobe of the right lung suggesting congenital cystic adenomatoid malformation arrows .', 'visualization of left main and bifurcation of left anterior descending coronary artery and circumflex assessed by transesophageal approach . the color-doppler trace the flow inside the proximal tract of left coronary artery left the pulsed wave doppler highlights the typical biphasic flow velocity coronary pattern', 'ct brain scan on admission showing an infarct in the posterior right frontal lobe', 'carotid artery ultrasound showing an echolucent atherosclerotic plaque geroulakos type 2this plaque is causing approximately 80 stenosis as determined using diameter reduction and velocity ratio methods .', 'postoperative x-ray after catheter implantation . the catheter tip is placed correctly in the superior caval vein .', 'ct scan showing the catheter tip in the right upper lobe of the lung and a large dorsobasal pleural effusion .', 'chest radiograph showing right upper lobe consolidation cardiac silhouette is normal .', 'chest radiograph bilateral alveolar opacities and cardiomegaly .', 'magnified coronal t2-weighted mri image of the right knee showing a medial meniscal tear .', 'parasternal short axis view color doppler examination at the heart base level . left main left anterior descending lad and origin of left circumflex cx coronary arteries are seen . blood flow within the left main coronary artery and proximal lad is depicted in red while in the cx – in blue .', 'modified apical four-chamber view color doppler examination . flow detected in long segment of the right posterior descending rpd coronary artery is depicted in red .', 'modified apical 2-chamber view apical area color doppler examination . the lad and the penetrating intramyocardial arteries vertical perforators branching of the lad are seen .', 'modified apical 2-chamber view middle segment of the inferior wall on color doppler examination . small arch-shaped arteries branching of the right posterior descending rpd coronary artery are seen .', 'the orientation of doppler gate within the lad perforator .', 'ct scan showing the gallbladder inflammatory mass', 'transesophageal long axis view in a patient with severe heart failure and mitral incompetence showing a large vegetation at arrows attached to the posterior mitral valve leaflet . la left atrium lv left ventricle mv mitral valve veg vegetation .', 'transesophageal long axis view in a patient with sepsis demonstrating a large vegetation attached to the anterior mitral valve leaflet and an echo-free space in the mitral valve annulus infiltrating the surrounding myocardium consistent with the presence of an abscess . abscess formation was confirmed at surgery . la left atrium lv left ventricle mv mitral valve veg vegetation .', 'ultrasound examination of the right elbow . this confirms the presence of a hypoechoic joint effusion arrowed .', 'colonic wall thickening with irregular outer margins . note the thickening of the mesenteric folds .', 'high density peritoneal fluid peritoneal thickening and extensive mesenteric infiltration in the pelvis .', 'cardiac duplex ultrasound image 4-chamber view obtained 2 days after thrombolysis showing the thrombus attached to left ventricular apex arrow .', 'contrast ct thorax demonstrating filling defect and lesion in right anterior ventricular wall .', 'post-treatment ct showing almost complete resolution of the abnormal thickening of gastro-oesophageal junction and stomach wall', 'one-year old malunited distal radial fracture with radio-carpal malalignment showing erlf of more than 25° . the carpal realignment is seen to occur entirely at radio-carpal joint producing its flexion at a magnitude much beyond the normal excursion . lunate is seen dorsally subluxed though maintaining the normal rla .', 'ercp during the first episode of cholangitis this ercp was performed during the first episode of cholangitis . there are multiple abcesses in connection with the biliary tree and several stones .', 'ercp performed two weeks later this ercp was performed two weeks after the first ercp . the left and right hepatic ducts are narrowed .', 'ercp after 10 months this ercp was performed ten months after the first ercp . hilar biliary stenoses and multiple filliform strictures of segmental intrahepatic ducts associated with peripheral bile duct dilatation are shown .', 'an abdominal computed tomography scan showed diffusely enlarged kidneys with perinephric edema extensive gas in the renal tissues and perinephric areas bilaterally .', \"computed tomography scanner showing a large left-pararenal mass hyalin-vascular type of castleman's disease . note the presence of microcalcification white spot within the mass .\", \"arteriography showing the presence of a hypervascular mass hyalin-vascular type of castleman's disease with rapid flushing of the tumor . the feeding vessels originated from the aorta and left renal artery .\", 'radiographic image of the calcaneus showing the localization of the region of interest roi . inside the roi longitudinal trabeculae correspond to the compressive trabecular network extended from the subtalar joint and the transverse to the tensile trabecular network sweeping backwards and upwards the great tuberosity . arrows show anatomical landmarks corresponding to the bottom of the roi .', 'posterior-anterior view of a chest x-ray film demonstrated a huge mass shadow in the left upper lung field .', 'contrast enhancing infarction in occipital lobe arrow', 'chest roentgenogram upon admission . frontal chest roentgenogram revealed extensive bilateral diffuse pulmonary infiltrations left greater than right .', 'pe patellar inlay of the interax®-prosthesis system set in the femoral component groove showing the wide lateral flange', 'reconstructed sagittal ct image showing mass into the thoracic trachea .', 'ct scan with intravenouse contrast free intraperitoneal air and a enlarged jejunum .', 'abdominal ct scan showing a 3 × 2 cm well-defined uniformly enhanced mass adjacent to the duodenal loop .', 'lin-12gfp is expressed in rig neurons . rig neurons are indicated by arrowheads . expression of lin-12gfp was detected in approximately 25 of l1/l2 animals . the identity of rig neurons was confirmed by using a nmr-1dsred reporter gene that labels the avg neuron which is located in between the rig neurons data not shown . scale bar = 10 μm .', 'chest computed tomography scan with contrast at the level of t7 showing the large pseudoaneurysm . the lesion was a well-defined partially calcified mass with tubular density adjacent to the heart . arrowheads indicate the calcifications . it was filled with contrast medium concurrently with the heart . this lesion which was mostly occupied by thrombosis had a mass effect on heart .', 'chest computed tomography scan with contrast at t7 level . arrowhead marks the ostium .', 'endoscopic ultrasound image of a 52 x 39 mm hypoechoic mass in the upper mediastinum olympus uc-30p .', 'contrast-enhanced spiral ct revealing ascites and concentric thickening of colon and ileum .', 'ct scan showing a large solid left neck mass with extension to the mediastinum and displacement of the trachea oesophagus and great vessels .', 'ct scan showing left adrenal gland tumor 10 cm in diameter having homogenous intensity . no liver lesion is visualized .', 'hyperdense lesions of the liver in the arterial phase of the ct scan .', 'plain skull x-ray film showing an irregular lytic lesion of the right parietal lobe .', 'apical four chamber and subcostal views . note the membrane arrow extending from the level of the mitral valve to the upper pulmonary veins . ra right atrium la left atrium rv right ventricle lv left ventricle mv mitral valve .', 'a t2-weighted axial mr image of the pelvis showing an irregular presacral fluid collection arrows extending from the cervix to the coccyx and to the sciatic foramen on the left side .', 't1- weighted fat saturated mr image after i .v . application of contrast medium coronal . the arrow is pointing to a fistulating formation spreading in the gluteal muscles on the left side with typical rim enhancement and central liquid components the soft tissue mass seen in midline has a centrally necrotizing appearance .', 't1- weighted fat saturated mr image after i .v . application of contrast medium sagittal view . presacrally the mass characterized by an inhomogeneous contrast medium uptake in the thickened nodular wall spreads in the subperiosteal space as indicated .', 'cxr in inspiration showing left sided small pneumothorax .', 'cxr in expiration showing obvious left sided pneumothorax .', \"sonographic examination 15 mm hypoechoic solid non-calcified circumscribed mass with a thin echoic rim benign in appearance located in subcutaneous fat at 9 o'clock in the left breast .\", 'the transthoracic echocardiogram tte showed left ventricular enlargment atrial dilatation moderate/severe mitral regurgitation and moderate aortic regurgitation mitral valve masses were suspected .', 'tee showed on apical 4-chamber section an anular structure attached like a membrane to the atrial wall anterior mitral valve leaflet and just proximal to the posterior mitral leaflet .', \"mri cine turbo-flash images acquired on a 1 .5 t scannermagnetom vision-siemens in four-chamber 3a and transverse plane short-axis view . these images did n't show congenital heart disease .\", 'pelvic computed tomography revealed an abnormally thickened diverticulum of the bladder .', 'ultrasound of the mri-detected lesion . following mri the patient was scheduled for ultrasound to identify the questionable lesions seen on mri for possible core biopsy . under ultrasound the lesion of concern was identified and biopsied at the 100 location in the left breast . additionally one lesion seen by mri in the right breast at the 400 location was identified and biopsied .', 'cranial mri flair on the day of admission showing multiple lesions of the supratentorial grey and white matter .', 'magnetic resonance image of the maxilla showing an enhanced lesion of the left hard palate with thickening of the genal mucosa and no bone involvement .', 'enhanced abdominal ct scan of upper abdomen showing a 6 cm sized mass in the right lower quadrant of the abdomen at the first operation . the mass contained air bubbles tiny calcifications and hematoma .', 'for comparison’s sake . a micrograph shows a nanowire curled into a loop in front of a human hair . nanowires can be as slender as 50 nanometers about one-thousandth the width of a hair .', 'chest x-ray film 5 days after double lung transplantation following surfactant replacement therapy .', 'computerized tomography showing areas of focal decreased enhancement of the anterior lower poles white arrow of the right kidney suggesting renal infarction versus pyelonephritis .', 'thin-section ct scan of the chest showing ground glass opacities in the lung parenchyma indicating interstitial inflammation and/or fibrosis .', 'ct scan showing lesion in the pancreas .', 'mri showing cystic and solid lesion in the pancreas .', 'intravenous urography 24/07/2000 -3 hours and 40 minutes film shows very faint opacification of right renal pelvis left renal pelvis is slightly dilated . bladder outline is irregular on the right side .', 'repeat ultrasound of urinary bladder 04/07/2001 shows 8 cm × 6 cm tumour arising from the floor and right lateral wall which on colour doppler imaging was seen to be moderately vascular .', 'bi-caval transesophageal view showing the ra and la divided by the interatrial septum . in this view the superior vena cava svc is also seen . please note the small homogeneous mass arising from the orifice of the inferior vena cava as seen flanked by the arrows .', 'panoramic radiograph before therapy . unicystic radiolucent lesion in the lawer right jaw with a comparatively clear demarcation . the tooth 43 is located on the floor of this process . there are no resorption of the root apices .', 'transfemoral arteriogram performed demonstrating the pseudoaneurysm of the anterior tibial artery .', 'automatic and manual boundaries are shown on the original images . solid lines are manually segmented images and dash lines are the result of proposed algorithm .', 'postoperative 7th day chest radiograph of a rabbit of control group .', 'ercp on presentation showing a dilated mpd and cystic lesions in the distal region of the pancreas .', 'abdominal ct just prior to surgery showing distinct swelling of the pancreas and the gastric wall causing the border between the two organs to be unclear .', 'middle cerebral artery aneurysm angiogram anteroposterior view . aca anterior cerebral artery ica internal carotid artery mca middle cerebral artery . aneurysm is seen in the trifurcation of mca', 'sonography of screws . two distal locking screws can be visualized by sonography . the image of two extremely brightness with comet-tails indicate the distal locking screw heads .', 'chest x-ray shows persisting total atelectasis of the right lung . note the marked loss of volume on the right pronounced shift of the mediastinum to the right and compensatory overexpansion of the left lung .', 'chest ct showed a mass measuring 5 .0 cm in size in the upper mediastinum .', 'ct abdomen of the patient showing large irregular heterogeneous lesion measuring approximately 16 × 13 .6 × 12 .1 cm with predominant cystic portions without calcifications .']}\n"
     ]
    }
   ]
  },
  {
   "cell_type": "code",
   "source": [
    "from torch.utils.data import Dataset, DataLoader\n",
    "from torchvision import transforms\n",
    "from PIL import Image\n",
    "import sys\n",
    "\n",
    "\n",
    "class CustomDataset(Dataset):\n",
    "    def __init__(self, dataset, transform=None):\n",
    "        self.dataset = dataset\n",
    "        self.transform = transform\n",
    "\n",
    "    def __len__(self):\n",
    "        return size_of_subset\n",
    "\n",
    "    def __getitem__(self, idx):\n",
    "        image = self.dataset['image'][idx]\n",
    "        text = self.dataset['text'][idx]\n",
    "\n",
    "        if self.transform:\n",
    "            image = self.transform(image)\n",
    "\n",
    "        return image, text\n",
    "\n",
    "\n",
    "# replicate grayscale images to 3 channels\n",
    "class ReplicateGrayscale(object):\n",
    "    def __call__(self, image):\n",
    "        if image.mode == 'L':\n",
    "            # replicate the single channel to have 3 channels\n",
    "            image = image.convert('RGB')\n",
    "        return image\n",
    "\n",
    "# image transformations\n",
    "common_transform = transforms.Compose([\n",
    "    transforms.Resize((224, 224)),\n",
    "    transforms.ToTensor(),\n",
    "])\n",
    "\n",
    "# apply the custom transform only to grayscale images\n",
    "transform = transforms.Compose([\n",
    "    ReplicateGrayscale(),\n",
    "    common_transform\n",
    "])\n",
    "\n",
    "# custom dataset\n",
    "custom_dataset = CustomDataset(candidate_training_set, transform)\n",
    "\n",
    "# data loader\n",
    "batch_size = 5\n",
    "data_loader = DataLoader(custom_dataset, batch_size=batch_size)\n"
   ],
   "metadata": {
    "id": "zbYEuPxK4Vw7"
   },
   "execution_count": 7,
   "outputs": []
  },
  {
   "cell_type": "code",
   "source": [
    "#  Load tex and image encoders and define the model and fine tune it based on a contrastive loss strategy"
   ],
   "metadata": {
    "id": "G420Us6y-wGn"
   },
   "execution_count": 8,
   "outputs": []
  },
  {
   "cell_type": "code",
   "source": [
    "import torch\n",
    "import torch.nn as nn\n",
    "import torch.nn.functional as F\n",
    "import torch.optim as optim\n",
    "from torchvision import models, transforms\n",
    "from transformers import AutoTokenizer, AutoModel\n",
    "from sklearn.metrics.pairwise import cosine_similarity\n",
    "from transformers import BertTokenizer, BertModel\n",
    "import matplotlib.pyplot as plt\n",
    "from tqdm import tqdm\n",
    "\n",
    "\n",
    "# Model definition\n",
    "class ContrastiveModel(nn.Module):\n",
    "    def __init__(self, text_encoder, image_encoder, embedding_size):\n",
    "        super(ContrastiveModel, self).__init__()\n",
    "        self.text_encoder = text_encoder\n",
    "        self.image_encoder = image_encoder\n",
    "        self.fc_text = nn.Linear(in_features=embedding_size, out_features=embedding_size)\n",
    "        self.fc_image = nn.Linear(in_features=28, out_features=embedding_size)\n",
    "\n",
    "    def forward(self, text_input, image_input):\n",
    "        text_embedding = self.text_encoder(**text_input).last_hidden_state[:, 0, :]\n",
    "        image_embedding = self.image_encoder(image_input)\n",
    "\n",
    "        return self.fc_text(text_embedding), self.fc_image(image_embedding)\n",
    "\n",
    "# Using BioBERT as text encoder\n",
    "text_encoder = AutoModel.from_pretrained(\"monologg/biobert_v1.1_pubmed\")\n",
    "\n",
    "# Load corresponded BERT tokenizer\n",
    "tokenizer = BertTokenizer.from_pretrained('monologg/biobert_v1.1_pubmed', do_lower_case=True)\n",
    "\n",
    "# Using ResNet as an image encoder\n",
    "image_encoder = models.resnet50(pretrained=True)\n",
    "image_encoder = nn.Sequential(*list(image_encoder.children())[:-4])  # Remove the classification head\n",
    "\n",
    "# Model instantiation\n",
    "model = ContrastiveModel(text_encoder, image_encoder, embedding_size=768)\n",
    "\n",
    "# Optimizer\n",
    "optimizer = optim.Adam(model.parameters(), lr=0.001)\n",
    "\n",
    "def calculate_cosine_similarities(text_embeddings, image_embedding):\n",
    "    # Normalizing the embeddings\n",
    "    text_embeddings = F.normalize(text_embeddings, p=2, dim=-1)\n",
    "    image_embedding = F.normalize(image_embedding, p=2, dim=-1)\n",
    "    similarities = torch.matmul(text_embeddings, image_embedding.t())\n",
    "\n",
    "    return similarities\n",
    "\n",
    "\n",
    "def triplet_margin_loss(text_embeddings, image_embeddings, margin=1.0):\n",
    "    # assuming that the text_embeddings and the image_embeddings are batches of normalized embeddings\n",
    "    batch_size = text_embeddings.size(0)\n",
    "\n",
    "    # pairwise cosine similarities\n",
    "    similarities = torch.matmul(text_embeddings, image_embeddings.t())\n",
    "\n",
    "    # indices for positive pairs\n",
    "    indices = torch.arange(batch_size)\n",
    "    positive_pairs = torch.stack([indices, indices])\n",
    "\n",
    "    # indices for negative pairs\n",
    "    negative_pairs = torch.cartesian_prod(indices, indices).view(-1, 2)\n",
    "    negative_pairs = negative_pairs[negative_pairs[:, 0] != negative_pairs[:, 1]]\n",
    "\n",
    "    positive_similarities = similarities[positive_pairs[0], positive_pairs[1]]\n",
    "    negative_similarities = similarities[negative_pairs[:, 0], negative_pairs[:, 1]]\n",
    "\n",
    "    # Repeating positive similarities for each corresponding negative similarity\n",
    "    repeated_positive_similarities = positive_similarities.repeat_interleave(len(negative_similarities)//len(positive_similarities))\n",
    "\n",
    "    # triplet margin loss\n",
    "    loss = torch.clamp(margin - repeated_positive_similarities + negative_similarities, min=0.0).mean()\n",
    "\n",
    "    return loss\n",
    "\n",
    "\n",
    "# loss values for plotting\n",
    "losses = []\n",
    "average_epoch_loss = 0.0\n",
    "\n",
    "# Number of epochs for training\n",
    "num_epochs = 3\n",
    "\n",
    "# Training loop\n",
    "for epoch in range(num_epochs):\n",
    "    epoch_loss = 0.0  # loss for the current epoch\n",
    "\n",
    "    for image_input, text_input in tqdm(data_loader, desc=f\"Epoch {epoch + 1}/{num_epochs}, Average Loss: {average_epoch_loss:.4f}\", unit=\"batch\"):\n",
    "\n",
    "        optimizer.zero_grad()\n",
    "\n",
    "        text_input = tokenizer(text_input, return_tensors='pt', padding=True, truncation=True)\n",
    "        text_output, image_output = model(text_input, image_input)\n",
    "        image_output = torch.mean(image_output, dim=(1, 2), keepdim=False)\n",
    "\n",
    "        loss = triplet_margin_loss(text_output, image_output)\n",
    "\n",
    "        loss.backward()\n",
    "        optimizer.step()\n",
    "\n",
    "        epoch_loss += loss.item()\n",
    "\n",
    "        # average loss for the epoch\n",
    "        average_epoch_loss = epoch_loss / len(data_loader)\n",
    "        losses.append(average_epoch_loss)\n"
   ],
   "metadata": {
    "colab": {
     "base_uri": "https://localhost:8080/"
    },
    "id": "5L7W4FC2_l81",
    "outputId": "f271078e-cbf5-4909-8478-752911ae214c"
   },
   "execution_count": 11,
   "outputs": [
    {
     "output_type": "stream",
     "name": "stderr",
     "text": [
      "Epoch 1/3, Average Loss: 0.0000: 100%|██████████| 20/20 [01:37<00:00,  4.90s/batch]\n",
      "Epoch 2/3, Average Loss: 1.0597: 100%|██████████| 20/20 [01:18<00:00,  3.92s/batch]\n",
      "Epoch 3/3, Average Loss: 1.0128: 100%|██████████| 20/20 [01:21<00:00,  4.08s/batch]\n"
     ]
    }
   ]
  },
  {
   "cell_type": "code",
   "source": [
    "# training loss over epochs\n",
    "plt.plot(losses, label='Training Loss')\n",
    "plt.xlabel('Epochs')\n",
    "plt.ylabel('Loss')\n",
    "plt.legend()\n",
    "plt.savefig('training_loss_plot.png')\n",
    "\n",
    "# Saving the trained model\n",
    "torch.save(model.state_dict(), 'image_text_contrastive_training.pth')"
   ],
   "metadata": {
    "colab": {
     "base_uri": "https://localhost:8080/",
     "height": 449
    },
    "id": "JEtYE-SBTFIb",
    "outputId": "ae29bc60-e525-4606-a55c-862225ecef20"
   },
   "execution_count": 12,
   "outputs": [
    {
     "output_type": "display_data",
     "data": {
      "text/plain": [
       "<Figure size 640x480 with 1 Axes>"
      ],
      "image/png": "[encoded data removed]"
     },
     "metadata": {}
    }
   ]
  },
  {
   "cell_type": "code",
   "source": [],
   "metadata": {
    "id": "xvPMp_YbgHKx"
   },
   "execution_count": null,
   "outputs": []
  }
 ]
}
